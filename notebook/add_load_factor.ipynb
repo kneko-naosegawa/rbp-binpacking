{
    "cells": [
        {
            "cell_type": "code",
            "execution_count": 1,
            "source": [
                "import yaml\n",
                "from pathlib import Path\n",
                "import pandas as pd"
            ],
            "outputs": [],
            "metadata": {}
        },
        {
            "cell_type": "code",
            "execution_count": 2,
            "source": [
                "def get_total_volume(row: pd.Series) -> int:\n",
                "    total_vol = 0\n",
                "    for s in sizes.size_name.values:\n",
                "        total_vol += row[s] * sizes.loc[sizes.size_name==s, \"volume_m3\"].values[0]\n",
                "    return total_vol"
            ],
            "outputs": [],
            "metadata": {}
        },
        {
            "cell_type": "code",
            "execution_count": 3,
            "source": [
                "path_root = Path.cwd().parent"
            ],
            "outputs": [],
            "metadata": {}
        },
        {
            "cell_type": "code",
            "execution_count": 4,
            "source": [
                "# サイズ一覧読み込み\n",
                "sizes = pd.read_csv(path_root/\"config/box_size.csv\")\n",
                "# 体積（m3）のカラムを追加\n",
                "sizes[\"volume_m3\"] = sizes.width * sizes.height * sizes.depth / 1000000000"
            ],
            "outputs": [],
            "metadata": {}
        },
        {
            "cell_type": "code",
            "execution_count": 5,
            "source": [
                "# RBPのサイズ読み込み\n",
                "with open(path_root/\"config/config.yaml\",\"r\") as s:\n",
                "    config = yaml.safe_load(s)\n",
                "rbp_volume = (config[\"rbp\"][\"width\"] * config[\"rbp\"][\"height\"] * config[\"rbp\"][\"depth\"]) / 1000000000"
            ],
            "outputs": [],
            "metadata": {}
        },
        {
            "cell_type": "code",
            "execution_count": 16,
            "source": [
                "# get list of result files\n",
                "files = [f for f in Path.iterdir(path_root/\"results\") if f.name.endswith(\"csv\")]"
            ],
            "outputs": [],
            "metadata": {}
        },
        {
            "cell_type": "code",
            "execution_count": 6,
            "source": [
                "for f in files:\n",
                "    data = pd.read_csv(f, index_col=[0])\n",
                "    data[\"total_volume\"] = data.apply(get_total_volume, axis=1)\n",
                "    data[\"load_factor_perc\"] = data.total_volume/rbp_volume * 100\n",
                "\n",
                "    # update file with load factor column\n",
                "    data.to_csv(f)"
            ],
            "outputs": [],
            "metadata": {}
        }
    ],
    "metadata": {
        "orig_nbformat": 4,
        "language_info": {
            "name": "python",
            "version": "3.9.12",
            "mimetype": "text/x-python",
            "codemirror_mode": {
                "name": "ipython",
                "version": 3
            },
            "pygments_lexer": "ipython3",
            "nbconvert_exporter": "python",
            "file_extension": ".py"
        },
        "kernelspec": {
            "name": "python3",
            "display_name": "Python 3.9.7 64-bit"
        },
        "interpreter": {
            "hash": "aee8b7b246df8f9039afb4144a1f6fd8d2ca17a180786b69acc140d282b71a49"
        }
    },
    "nbformat": 4,
    "nbformat_minor": 2
}