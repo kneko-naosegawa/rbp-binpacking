{
 "cells": [
  {
   "cell_type": "markdown",
   "source": [
    "# RBPの本数を計算するNotebook"
   ],
   "metadata": {
    "papermill": {
     "duration": 0.198129,
     "end_time": "2022-04-26T01:24:08.906296",
     "exception": false,
     "start_time": "2022-04-26T01:24:08.708167",
     "status": "completed"
    },
    "tags": []
   }
  },
  {
   "cell_type": "code",
   "execution_count": 1,
   "source": [
    "import yaml\n",
    "from pathlib import Path\n",
    "import pandas as pd\n",
    "from py3dbp import Packer, Bin, Item"
   ],
   "outputs": [],
   "metadata": {
    "papermill": {
     "duration": 1.993378,
     "end_time": "2022-04-26T01:24:11.847268",
     "exception": false,
     "start_time": "2022-04-26T01:24:09.853890",
     "status": "completed"
    },
    "tags": []
   }
  },
  {
   "cell_type": "code",
   "execution_count": 2,
   "source": [
    "def generate_result_df(box_names: list) -> pd.DataFrame:\n",
    "      # check the result\n",
    "  dict_bins = dict()\n",
    "\n",
    "  for b in packer.bins:\n",
    "      if b.items:\n",
    "          s = pd.Series([b.items[i].name for i in range(len(b.items))])\n",
    "          d = dict()\n",
    "          for n in box_names:\n",
    "              d[n] = s.str.contains(n).sum()\n",
    "          dict_bins[b.name] = d\n",
    "\n",
    "  return pd.DataFrame.from_dict(dict_bins, orient=\"index\")\n",
    "\n",
    "\n",
    "def add_bins(num=100):\n",
    "    for i in range(num):\n",
    "        packer.add_bin(Bin(\n",
    "            f\"rbp{i}\", \n",
    "            rbp_width-rbp_margin, \n",
    "            rbp_height, \n",
    "            rbp_depth-rbp_margin, \n",
    "            rbp_max_weight))\n",
    "            \n",
    "\n",
    "def reset_packer():  # resetがうまくいかず、連続実行ができない\n",
    "    packer.bins = []\n",
    "    packer.items = []\n",
    "    packer.unfit_items = []\n",
    "    packer.total_items = 0\n",
    "\n",
    "    add_bins()"
   ],
   "outputs": [],
   "metadata": {
    "papermill": {
     "duration": 0.228359,
     "end_time": "2022-04-26T01:24:12.248985",
     "exception": false,
     "start_time": "2022-04-26T01:24:12.020626",
     "status": "completed"
    },
    "tags": []
   }
  },
  {
   "cell_type": "code",
   "execution_count": 3,
   "source": [
    "path_root = Path.cwd().parent"
   ],
   "outputs": [],
   "metadata": {
    "papermill": {
     "duration": 0.193426,
     "end_time": "2022-04-26T01:24:12.614401",
     "exception": false,
     "start_time": "2022-04-26T01:24:12.420975",
     "status": "completed"
    },
    "tags": []
   }
  },
  {
   "cell_type": "code",
   "execution_count": 4,
   "source": [
    "# RBPのサイズを読み込み\n",
    "with open(path_root/\"config/config.yaml\", \"r\") as s:\n",
    "    config = yaml.safe_load(s)\n",
    "\n",
    "rbp_width = config[\"rbp\"][\"width\"]\n",
    "rbp_height = config[\"rbp\"][\"height\"]\n",
    "rbp_depth = config[\"rbp\"][\"depth\"]\n",
    "rbp_margin = config[\"rbp\"][\"margin\"]\n",
    "rbp_max_weight = config[\"rbp\"][\"max_weight\"]"
   ],
   "outputs": [],
   "metadata": {
    "papermill": {
     "duration": 0.212109,
     "end_time": "2022-04-26T01:24:12.997760",
     "exception": false,
     "start_time": "2022-04-26T01:24:12.785651",
     "status": "completed"
    },
    "tags": []
   }
  },
  {
   "cell_type": "code",
   "execution_count": 5,
   "source": [
    "# テストデータ読み込み\n",
    "data = pd.read_csv(path_root/\"data/test_data.csv\")"
   ],
   "outputs": [],
   "metadata": {
    "papermill": {
     "duration": 0.235133,
     "end_time": "2022-04-26T01:24:13.403412",
     "exception": false,
     "start_time": "2022-04-26T01:24:13.168279",
     "status": "completed"
    },
    "tags": []
   }
  },
  {
   "cell_type": "code",
   "execution_count": 6,
   "source": [
    "# initialize packer\n",
    "packer = Packer()\n",
    "\n",
    "# add rbp to packer\n",
    "add_bins()\n",
    "\n",
    "patterns = [c for c in data.columns if \"pattern\" in c]\n",
    "cols = [c for c in data.columns if c not in patterns]"
   ],
   "outputs": [],
   "metadata": {
    "papermill": {
     "duration": 0.200509,
     "end_time": "2022-04-26T01:24:13.773048",
     "exception": false,
     "start_time": "2022-04-26T01:24:13.572539",
     "status": "completed"
    },
    "tags": []
   }
  },
  {
   "cell_type": "code",
   "execution_count": 7,
   "source": [
    "# RBP本数の計算\n",
    "\"\"\"\n",
    "params: \n",
    "    Item(name, width, height, depth, weight)\n",
    "\"\"\"\n",
    "for p in patterns:\n",
    "    df = data[cols+[p]]\n",
    "\n",
    "    # add items for each size\n",
    "    for s in df.size_name:\n",
    "        df_size = df[df.size_name==s]\n",
    "        for i in range(df_size[p].values[0]):\n",
    "            packer.add_item(Item(\n",
    "                f\"{s}_{i}\",\n",
    "                int(df_size.width.values[0]), # packer doesn't accept np.int\n",
    "                int(df_size.height.values[0]),\n",
    "                int(df_size.depth.values[0]),\n",
    "                int(df_size.weight.values[0])\n",
    "            ))\n",
    "\n",
    "    packer.pack(bigger_first=True, distribute_items=True)\n",
    "    df_res = generate_result_df(df.size_name.values)\n",
    "\n",
    "    # save as csv\n",
    "    df_res.to_csv(path_root/f\"results/results_{p}.csv\")\n",
    "    reset_packer()"
   ],
   "outputs": [],
   "metadata": {
    "papermill": {
     "duration": 10.583512,
     "end_time": "2022-04-26T01:24:24.526774",
     "exception": false,
     "start_time": "2022-04-26T01:24:13.943262",
     "status": "completed"
    },
    "tags": []
   }
  },
  {
   "cell_type": "code",
   "execution_count": null,
   "source": [],
   "outputs": [],
   "metadata": {}
  }
 ],
 "metadata": {
  "interpreter": {
   "hash": "4cd7ab41f5fca4b9b44701077e38c5ffd31fe66a6cab21e0214b68d958d0e462"
  },
  "kernelspec": {
   "name": "python3",
   "display_name": "Python 3.9.12 64-bit"
  },
  "language_info": {
   "codemirror_mode": {
    "name": "ipython",
    "version": 3
   },
   "file_extension": ".py",
   "mimetype": "text/x-python",
   "name": "python",
   "nbconvert_exporter": "python",
   "pygments_lexer": "ipython3",
   "version": "3.9.12"
  },
  "papermill": {
   "default_parameters": {},
   "duration": 19.993539,
   "end_time": "2022-04-26T01:24:25.482064",
   "environment_variables": {},
   "exception": null,
   "input_path": "get_rbp_count.ipynb",
   "output_path": "get_rbp_count.ipynb",
   "parameters": {
    "p": "pattern_20"
   },
   "start_time": "2022-04-26T01:24:05.488525",
   "version": "2.3.4"
  }
 },
 "nbformat": 4,
 "nbformat_minor": 5
}