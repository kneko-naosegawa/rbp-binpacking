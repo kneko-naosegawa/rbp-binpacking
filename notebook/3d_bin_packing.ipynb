{
  "nbformat": 4,
  "nbformat_minor": 2,
  "metadata": {
    "colab": {
      "name": "3d_bin_packing",
      "provenance": [],
      "collapsed_sections": []
    },
    "kernelspec": {
      "name": "python3",
      "display_name": "Python 3"
    },
    "language_info": {
      "name": "python"
    }
  },
  "cells": [
    {
      "cell_type": "markdown",
      "source": [
        "# RBPに積載できる荷量の推定\n",
        "## 概要\n",
        "* 課題：RBPに積載できるケース数の推定量を算出したい\n",
        "* 今回は上記の課題を3次元ビンパッキング問題として解いた\n",
        "* 使用したパッケージ：`py3dbp`\n",
        "  * [こちら](https://github.com/enzoruiz/3dbinpacking/blob/master/erick_dube_507-034.pdf)の論文を実装したPythonのパッケージ\n",
        "  * [Github](https://github.com/enzoruiz/3dbinpacking)\n",
        "\n",
        "## 算出時の主なロジック\n",
        "* 大きなケースから順に積み込む\n",
        "* 空きスペースが小さいRBPから順に埋める\n",
        "* ケースがRBPの空きスペースに収まるまでケースを回転させる\n",
        "  * 回転の順番は固定\n",
        "  * 回転させても収まらない場合は、新しいRBPに積み込む\n",
        "  * 回転の順番は[元の論文](https://github.com/enzoruiz/3dbinpacking/blob/master/erick_dube_507-034.pdf)のFig1とTable1を参照\n",
        "* ケースの収まりを確認する時は、横方向 -> 上方向 -> 奥方向\n",
        "* 荷物の重さについては、`RBPの上限 > 積載した荷物の合計` となっているかの確認のみで、「軽いものの上に重たいものが乗らないように」といった条件は含まれない\n",
        "\n",
        "## その他\n",
        "### 積載ロジックについて\n",
        "* 回転の順番、種類は変更が可能（ex. 水平方向には回転させるけど、上下は逆さまにしない）\n",
        "* 重さの条件については、積み込む順番を `重いもの順にソート -> 大きい順にソート`にすることで、重いケースが下に来るようにすることができそう\n",
        "\n",
        "### 出力について\n",
        "* 各ケースの位置情報も出力されるため、大変そうだけど頑張れば可視化も可能\n",
        "* PowerBIでPythonのスクリプトを実行する or Azureの別のサービスで計算をして出力値を連携するなど、細見さんの使いやすいようにデータを提供することができそう"
      ],
      "metadata": {
        "id": "seGdPsTb0KAM"
      }
    },
    {
      "cell_type": "code",
      "execution_count": null,
      "source": [
        "import pandas as pd\n",
        "from py3dbp import Packer, Bin, Item"
      ],
      "outputs": [],
      "metadata": {
        "id": "QHHwjFzbaeti"
      }
    },
    {
      "cell_type": "markdown",
      "source": [
        "今回は[クロネコボックスのサイズ](https://market.kuronekoyamato.co.jp/market/MarketTopAction_doViewGoodsDetail.action?struts.token.name=token&token=IL0TH5RK5CWLKW7ZHQJDZWNN0M3TG59D&ggId=1+++++++++&cmid=6b9214d38a484033)を想定した\n",
        "\n",
        "|変数名|クロネコボックス|サイズ|\n",
        "|---|---|---|\n",
        "|b1|クロネコボックス6|20cm x 27cm x 13cm|\n",
        "|b2|クロネコボックス8|27cm x 38cm x 15cm|\n",
        "|b3|クロネコボックス10|27cm x 38cm x 35cm|\n",
        "|b4|クロネコボックス12|38cm x 53cm x 29cm|\n",
        "|b5|クロネコボックス14|40cm x 60cm x 40cm|"
      ],
      "metadata": {
        "id": "7mcVpxw3a9Ga"
      }
    },
    {
      "cell_type": "markdown",
      "source": [
        "以下で各ボックスの個数を指定"
      ],
      "metadata": {
        "id": "jbzu8a5N6E90"
      }
    },
    {
      "cell_type": "code",
      "execution_count": null,
      "source": [
        "# ここを適宜変更\n",
        "n_b1 = 50\n",
        "n_b2 = 50\n",
        "n_b3 = 30\n",
        "n_b4 = 20\n",
        "n_b5 = 20\n",
        "\n",
        "# RBPのマージン(単位はcm、幅と奥行きから差し引く)\n",
        "m = 10"
      ],
      "outputs": [],
      "metadata": {
        "id": "FVf2qDbtahij"
      }
    },
    {
      "cell_type": "code",
      "execution_count": null,
      "source": [
        "def generate_result_df() -> pd.DataFrame:\n",
        "  # check the result\n",
        "  dict_bins = dict()\n",
        "  box_names = [\"b1\",\"b2\",\"b3\",\"b4\",\"b5\"]\n",
        "\n",
        "  for b in packer.bins:\n",
        "      if b.items:\n",
        "          s = pd.Series([b.items[i].name for i in range(len(b.items))])\n",
        "          d = dict()\n",
        "          for n in box_names:\n",
        "              d[n] = s.str.contains(n).sum()\n",
        "          dict_bins[b.name] = d\n",
        "\n",
        "  return pd.DataFrame.from_dict(dict_bins, orient=\"index\")"
      ],
      "outputs": [],
      "metadata": {
        "id": "MlecEquO9BRd"
      }
    },
    {
      "cell_type": "code",
      "execution_count": null,
      "source": [
        "packer = Packer()"
      ],
      "outputs": [],
      "metadata": {
        "id": "RNZ5Ds3namGV"
      }
    },
    {
      "cell_type": "code",
      "execution_count": null,
      "source": [
        "'''\n",
        "params: name, width, height, depth, weight\n",
        "unit: length->mm, weight->kg\n",
        "'''\n",
        "#bin（今はRBPぴったりのサイズを上限にしており、はみ出しはNG）\n",
        "for i in range(100):\n",
        "    packer.add_bin(Bin(f'rbp{i}', 1040-m, 1040-m, 1700, 500))\n",
        "\n",
        "# box1\n",
        "for i in range(n_b1):\n",
        "    packer.add_item(Item(f'b1_{i}', 200, 270, 130, 1))\n",
        "# box2\n",
        "for i in range(n_b2):\n",
        "    packer.add_item(Item(f'b2_{i}', 270, 380, 150, 1))\n",
        "# box3\n",
        "for i in range(n_b3):\n",
        "    packer.add_item(Item(f'b3_{i}', 270, 380, 350, 1))\n",
        "# box4\n",
        "for i in range(n_b4):\n",
        "    packer.add_item(Item(f'b4_{i}', 380, 530, 290, 1))\n",
        "# box5\n",
        "for i in range(n_b5):\n",
        "    packer.add_item(Item(f'b5_{i}', 400, 600, 400, 1))"
      ],
      "outputs": [],
      "metadata": {
        "id": "W7w1yoK-amdN"
      }
    },
    {
      "cell_type": "markdown",
      "source": [
        "各RBPに積載されたボックスの数を表示"
      ],
      "metadata": {
        "id": "6tTS3PGk6Oc-"
      }
    },
    {
      "cell_type": "code",
      "execution_count": null,
      "source": [
        "%%time\n",
        "packer.pack(bigger_first=True, distribute_items=True)\n",
        "df_res_bg = generate_result_df()\n",
        "display(df_res_bg)"
      ],
      "outputs": [
        {
          "output_type": "display_data",
          "data": {
            "text/plain": [
              "      b1  b2  b3  b4  b5\n",
              "rbp0   9   6   1   0  14\n",
              "rbp1  11   6   2  12   6\n",
              "rbp2  27   8  18   8   0\n",
              "rbp3   3  30   9   0   0"
            ],
            "text/html": [
              "\n",
              "  <div id=\"df-7378fee8-8241-459c-9a70-eb194d288757\">\n",
              "    <div class=\"colab-df-container\">\n",
              "      <div>\n",
              "<style scoped>\n",
              "    .dataframe tbody tr th:only-of-type {\n",
              "        vertical-align: middle;\n",
              "    }\n",
              "\n",
              "    .dataframe tbody tr th {\n",
              "        vertical-align: top;\n",
              "    }\n",
              "\n",
              "    .dataframe thead th {\n",
              "        text-align: right;\n",
              "    }\n",
              "</style>\n",
              "<table border=\"1\" class=\"dataframe\">\n",
              "  <thead>\n",
              "    <tr style=\"text-align: right;\">\n",
              "      <th></th>\n",
              "      <th>b1</th>\n",
              "      <th>b2</th>\n",
              "      <th>b3</th>\n",
              "      <th>b4</th>\n",
              "      <th>b5</th>\n",
              "    </tr>\n",
              "  </thead>\n",
              "  <tbody>\n",
              "    <tr>\n",
              "      <th>rbp0</th>\n",
              "      <td>9</td>\n",
              "      <td>6</td>\n",
              "      <td>1</td>\n",
              "      <td>0</td>\n",
              "      <td>14</td>\n",
              "    </tr>\n",
              "    <tr>\n",
              "      <th>rbp1</th>\n",
              "      <td>11</td>\n",
              "      <td>6</td>\n",
              "      <td>2</td>\n",
              "      <td>12</td>\n",
              "      <td>6</td>\n",
              "    </tr>\n",
              "    <tr>\n",
              "      <th>rbp2</th>\n",
              "      <td>27</td>\n",
              "      <td>8</td>\n",
              "      <td>18</td>\n",
              "      <td>8</td>\n",
              "      <td>0</td>\n",
              "    </tr>\n",
              "    <tr>\n",
              "      <th>rbp3</th>\n",
              "      <td>3</td>\n",
              "      <td>30</td>\n",
              "      <td>9</td>\n",
              "      <td>0</td>\n",
              "      <td>0</td>\n",
              "    </tr>\n",
              "  </tbody>\n",
              "</table>\n",
              "</div>\n",
              "      <button class=\"colab-df-convert\" onclick=\"convertToInteractive('df-7378fee8-8241-459c-9a70-eb194d288757')\"\n",
              "              title=\"Convert this dataframe to an interactive table.\"\n",
              "              style=\"display:none;\">\n",
              "        \n",
              "  <svg xmlns=\"http://www.w3.org/2000/svg\" height=\"24px\"viewBox=\"0 0 24 24\"\n",
              "       width=\"24px\">\n",
              "    <path d=\"M0 0h24v24H0V0z\" fill=\"none\"/>\n",
              "    <path d=\"M18.56 5.44l.94 2.06.94-2.06 2.06-.94-2.06-.94-.94-2.06-.94 2.06-2.06.94zm-11 1L8.5 8.5l.94-2.06 2.06-.94-2.06-.94L8.5 2.5l-.94 2.06-2.06.94zm10 10l.94 2.06.94-2.06 2.06-.94-2.06-.94-.94-2.06-.94 2.06-2.06.94z\"/><path d=\"M17.41 7.96l-1.37-1.37c-.4-.4-.92-.59-1.43-.59-.52 0-1.04.2-1.43.59L10.3 9.45l-7.72 7.72c-.78.78-.78 2.05 0 2.83L4 21.41c.39.39.9.59 1.41.59.51 0 1.02-.2 1.41-.59l7.78-7.78 2.81-2.81c.8-.78.8-2.07 0-2.86zM5.41 20L4 18.59l7.72-7.72 1.47 1.35L5.41 20z\"/>\n",
              "  </svg>\n",
              "      </button>\n",
              "      \n",
              "  <style>\n",
              "    .colab-df-container {\n",
              "      display:flex;\n",
              "      flex-wrap:wrap;\n",
              "      gap: 12px;\n",
              "    }\n",
              "\n",
              "    .colab-df-convert {\n",
              "      background-color: #E8F0FE;\n",
              "      border: none;\n",
              "      border-radius: 50%;\n",
              "      cursor: pointer;\n",
              "      display: none;\n",
              "      fill: #1967D2;\n",
              "      height: 32px;\n",
              "      padding: 0 0 0 0;\n",
              "      width: 32px;\n",
              "    }\n",
              "\n",
              "    .colab-df-convert:hover {\n",
              "      background-color: #E2EBFA;\n",
              "      box-shadow: 0px 1px 2px rgba(60, 64, 67, 0.3), 0px 1px 3px 1px rgba(60, 64, 67, 0.15);\n",
              "      fill: #174EA6;\n",
              "    }\n",
              "\n",
              "    [theme=dark] .colab-df-convert {\n",
              "      background-color: #3B4455;\n",
              "      fill: #D2E3FC;\n",
              "    }\n",
              "\n",
              "    [theme=dark] .colab-df-convert:hover {\n",
              "      background-color: #434B5C;\n",
              "      box-shadow: 0px 1px 3px 1px rgba(0, 0, 0, 0.15);\n",
              "      filter: drop-shadow(0px 1px 2px rgba(0, 0, 0, 0.3));\n",
              "      fill: #FFFFFF;\n",
              "    }\n",
              "  </style>\n",
              "\n",
              "      <script>\n",
              "        const buttonEl =\n",
              "          document.querySelector('#df-7378fee8-8241-459c-9a70-eb194d288757 button.colab-df-convert');\n",
              "        buttonEl.style.display =\n",
              "          google.colab.kernel.accessAllowed ? 'block' : 'none';\n",
              "\n",
              "        async function convertToInteractive(key) {\n",
              "          const element = document.querySelector('#df-7378fee8-8241-459c-9a70-eb194d288757');\n",
              "          const dataTable =\n",
              "            await google.colab.kernel.invokeFunction('convertToInteractive',\n",
              "                                                     [key], {});\n",
              "          if (!dataTable) return;\n",
              "\n",
              "          const docLinkHtml = 'Like what you see? Visit the ' +\n",
              "            '<a target=\"_blank\" href=https://colab.research.google.com/notebooks/data_table.ipynb>data table notebook</a>'\n",
              "            + ' to learn more about interactive tables.';\n",
              "          element.innerHTML = '';\n",
              "          dataTable['output_type'] = 'display_data';\n",
              "          await google.colab.output.renderOutput(dataTable, element);\n",
              "          const docLink = document.createElement('div');\n",
              "          docLink.innerHTML = docLinkHtml;\n",
              "          element.appendChild(docLink);\n",
              "        }\n",
              "      </script>\n",
              "    </div>\n",
              "  </div>\n",
              "  "
            ]
          },
          "metadata": {}
        },
        {
          "output_type": "stream",
          "name": "stdout",
          "text": [
            "CPU times: user 2.02 s, sys: 13 ms, total: 2.03 s\n",
            "Wall time: 2.18 s\n"
          ]
        }
      ],
      "metadata": {
        "colab": {
          "base_uri": "https://localhost:8080/",
          "height": 210
        },
        "id": "g-5ONPp0auP5",
        "outputId": "47360d8b-ba76-4493-aa4a-d0f860581edf"
      }
    },
    {
      "cell_type": "code",
      "execution_count": null,
      "source": [],
      "outputs": [],
      "metadata": {
        "id": "K4wfmD_marQ_"
      }
    }
  ]
}